{
 "cells": [
  {
   "cell_type": "code",
   "execution_count": 5,
   "id": "faa2a147",
   "metadata": {},
   "outputs": [],
   "source": [
    "# Để khai báo biến, chúng ta sẽ sử dụng cú pháp: ten_bien = gia_tri_cua_bien\n",
    "course = \"Python\"\n",
    "# Course = \"Python advanced\"\n",
    "teacher_name = 'Long'"
   ]
  },
  {
   "cell_type": "code",
   "execution_count": 1,
   "id": "5aadf592",
   "metadata": {},
   "outputs": [
    {
     "name": "stdout",
     "output_type": "stream",
     "text": [
      "9\n",
      "<class 'int'>\n",
      "26.4\n",
      "<class 'float'>\n",
      "True\n",
      "<class 'bool'>\n",
      "c\n",
      "<class 'str'>\n"
     ]
    }
   ],
   "source": [
    "# Biến kiểu int(số nguyên[...,-3,-2,-1,0,1,2,3,...])\n",
    "month = 9\n",
    "print(month)\n",
    "print(type(month))\n",
    "\n",
    "# Biến kiểu float(số thực[0.1, 0.01, -2.3,...])\n",
    "degree = 26.4\n",
    "print(degree)\n",
    "print(type(degree))\n",
    "\n",
    "#Biến kiểu bool(logic[True/False])\n",
    "is_teacher = True\n",
    "print(is_teacher)\n",
    "print(type(is_teacher))\n",
    "\n",
    "year = \"c\"\n",
    "print(year)\n",
    "print(type(year))"
   ]
  },
  {
   "cell_type": "code",
   "execution_count": 7,
   "id": "ca411b83",
   "metadata": {},
   "outputs": [
    {
     "name": "stdout",
     "output_type": "stream",
     "text": [
      "True\n",
      "11.0\n"
     ]
    }
   ],
   "source": [
    "is_teaching = True\n",
    "print(is_teaching)\n",
    "print(is_teaching + 10.0)"
   ]
  },
  {
   "cell_type": "code",
   "execution_count": 8,
   "id": "922495b5",
   "metadata": {},
   "outputs": [
    {
     "data": {
      "text/plain": [
       "15"
      ]
     },
     "execution_count": 8,
     "metadata": {},
     "output_type": "execute_result"
    }
   ],
   "source": [
    "10 + 5"
   ]
  },
  {
   "cell_type": "code",
   "execution_count": 9,
   "id": "82f6ad22",
   "metadata": {},
   "outputs": [
    {
     "data": {
      "text/plain": [
       "5"
      ]
     },
     "execution_count": 9,
     "metadata": {},
     "output_type": "execute_result"
    }
   ],
   "source": [
    "10 - 5\n"
   ]
  },
  {
   "cell_type": "code",
   "execution_count": 11,
   "id": "82714685",
   "metadata": {},
   "outputs": [
    {
     "data": {
      "text/plain": [
       "50"
      ]
     },
     "execution_count": 11,
     "metadata": {},
     "output_type": "execute_result"
    }
   ],
   "source": [
    "10 * 5"
   ]
  },
  {
   "cell_type": "code",
   "execution_count": 14,
   "id": "3b06a3d3",
   "metadata": {},
   "outputs": [
    {
     "data": {
      "text/plain": [
       "2.0"
      ]
     },
     "execution_count": 14,
     "metadata": {},
     "output_type": "execute_result"
    }
   ],
   "source": [
    "10 / 5"
   ]
  },
  {
   "cell_type": "code",
   "execution_count": 15,
   "id": "458a28fa",
   "metadata": {},
   "outputs": [
    {
     "data": {
      "text/plain": [
       "1"
      ]
     },
     "execution_count": 15,
     "metadata": {},
     "output_type": "execute_result"
    }
   ],
   "source": [
    "7 % 3"
   ]
  },
  {
   "cell_type": "code",
   "execution_count": 17,
   "id": "cf2186a3",
   "metadata": {},
   "outputs": [
    {
     "data": {
      "text/plain": [
       "2"
      ]
     },
     "execution_count": 17,
     "metadata": {},
     "output_type": "execute_result"
    }
   ],
   "source": [
    "7 // 3"
   ]
  },
  {
   "cell_type": "code",
   "execution_count": 18,
   "id": "fac49324",
   "metadata": {},
   "outputs": [
    {
     "name": "stdout",
     "output_type": "stream",
     "text": [
      "38\n"
     ]
    }
   ],
   "source": [
    "x = (10 + 9) * 2\n",
    "print(x)"
   ]
  },
  {
   "cell_type": "code",
   "execution_count": 19,
   "id": "d8231f61",
   "metadata": {},
   "outputs": [
    {
     "name": "stdout",
     "output_type": "stream",
     "text": [
      "43\n"
     ]
    }
   ],
   "source": [
    "x = x + 5\n",
    "print(x)"
   ]
  },
  {
   "cell_type": "code",
   "execution_count": 26,
   "id": "2a619daf",
   "metadata": {},
   "outputs": [
    {
     "name": "stdout",
     "output_type": "stream",
     "text": [
      "53\n"
     ]
    }
   ],
   "source": [
    "x += 5\n",
    "print(x)"
   ]
  },
  {
   "cell_type": "code",
   "execution_count": 29,
   "id": "5f59da28",
   "metadata": {},
   "outputs": [
    {
     "data": {
      "text/plain": [
       "False"
      ]
     },
     "execution_count": 29,
     "metadata": {},
     "output_type": "execute_result"
    }
   ],
   "source": [
    "2 + 1 == 4"
   ]
  },
  {
   "cell_type": "code",
   "execution_count": 30,
   "id": "f7373329",
   "metadata": {},
   "outputs": [
    {
     "data": {
      "text/plain": [
       "True"
      ]
     },
     "execution_count": 30,
     "metadata": {},
     "output_type": "execute_result"
    }
   ],
   "source": [
    "2 + 1 != 4"
   ]
  },
  {
   "cell_type": "code",
   "execution_count": 33,
   "id": "5b62bbd6",
   "metadata": {},
   "outputs": [
    {
     "data": {
      "text/plain": [
       "False"
      ]
     },
     "execution_count": 33,
     "metadata": {},
     "output_type": "execute_result"
    }
   ],
   "source": [
    "a = -1\n",
    "b = 2\n",
    "a > 0 and b > 0"
   ]
  },
  {
   "cell_type": "code",
   "execution_count": 34,
   "id": "003b0e85",
   "metadata": {},
   "outputs": [
    {
     "data": {
      "text/plain": [
       "True"
      ]
     },
     "execution_count": 34,
     "metadata": {},
     "output_type": "execute_result"
    }
   ],
   "source": [
    "a = -1\n",
    "b = 2\n",
    "a > 0 or b > 0"
   ]
  },
  {
   "cell_type": "code",
   "execution_count": 36,
   "id": "8bff3f5e",
   "metadata": {},
   "outputs": [
    {
     "data": {
      "text/plain": [
       "False"
      ]
     },
     "execution_count": 36,
     "metadata": {},
     "output_type": "execute_result"
    }
   ],
   "source": [
    "a = 1\n",
    "not(a > 0)"
   ]
  }
 ],
 "metadata": {
  "kernelspec": {
   "display_name": "Python 3 (ipykernel)",
   "language": "python",
   "name": "python3"
  },
  "language_info": {
   "codemirror_mode": {
    "name": "ipython",
    "version": 3
   },
   "file_extension": ".py",
   "mimetype": "text/x-python",
   "name": "python",
   "nbconvert_exporter": "python",
   "pygments_lexer": "ipython3",
   "version": "3.9.6"
  }
 },
 "nbformat": 4,
 "nbformat_minor": 5
}
