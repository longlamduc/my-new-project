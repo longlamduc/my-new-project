{
 "cells": [
  {
   "cell_type": "markdown",
   "metadata": {},
   "source": [
    "## Review: type()"
   ]
  },
  {
   "cell_type": "code",
   "execution_count": 4,
   "metadata": {},
   "outputs": [
    {
     "name": "stdout",
     "output_type": "stream",
     "text": [
      "<class 'bool'>\n"
     ]
    }
   ],
   "source": [
    "# Python có 4 kiểu dữ liệu cơ bản\n",
    "integer = 4\n",
    "float1 = 4.5654665768\n",
    "string = 'hello'\n",
    "boolean = True\n",
    "\n",
    "print(type(boolean))"
   ]
  },
  {
   "cell_type": "markdown",
   "metadata": {},
   "source": [
    "## list là gì?"
   ]
  },
  {
   "cell_type": "code",
   "execution_count": 5,
   "metadata": {},
   "outputs": [
    {
     "name": "stdout",
     "output_type": "stream",
     "text": [
      "Members in group: Andy, Bobby, Chloe, Dickson and Emmy\n"
     ]
    }
   ],
   "source": [
    "# Ví dụ\n",
    "def print_group_names(name_1, name_2, name_3, name_4, name_5):\n",
    "    print(f\"Members in group: {name_1}, {name_2}, {name_3}, {name_4} and {name_5}\")\n",
    "    \n",
    "print_group_names(\"Andy\", \"Bobby\", \"Chloe\", \"Dickson\", \"Emmy\")"
   ]
  },
  {
   "cell_type": "code",
   "execution_count": 13,
   "metadata": {},
   "outputs": [
    {
     "name": "stdout",
     "output_type": "stream",
     "text": [
      "Chloe\n",
      "['Andy', 'Bobby', 'Chloe', 'Dickson', 'Emmy']\n",
      "p\n",
      "T\n",
      "h\n",
      "i\n",
      "s\n",
      " \n",
      "i\n",
      "s\n",
      " \n",
      "p\n",
      "y\n",
      "t\n",
      "h\n",
      "o\n",
      "n\n",
      " \n",
      "c\n",
      "o\n",
      "u\n",
      "r\n",
      "s\n",
      "e\n"
     ]
    }
   ],
   "source": [
    "# Sử dụng list\n",
    "number = 4\n",
    "string = \"abc\"\n",
    "boolean = True\n",
    "\n",
    "# List trong Python là một dạng dữ liệu cho phép lưu trữ nhiều kiểu dữ liệu khác nhau trong nó, và \n",
    "# chũng ta có thể truy xuất đến các phần tử bên trong nó thông qua vị trí của phần tử đó trong list\n",
    "names = [\"Andy\", \"Bobby\", \"Chloe\", \"Dickson\", \"Emmy\", 123, 4.131223324, True]\n",
    "print(names[2])\n",
    "# [\"Andy\", \"Bobby\", \"Chloe\", \"Dickson\", \"Emmy\"]\n",
    "print(names[:5])\n",
    "\n",
    "\n",
    "content = \"This is python course\"\n",
    "print(content[8])\n",
    "\n",
    "for i in range(len(content)):\n",
    "    print(content[i])"
   ]
  },
  {
   "cell_type": "markdown",
   "metadata": {},
   "source": [
    "### Thực hành: Viết chương trình tạo ra một list các string khác nhau và đếm tổng số lượng string dài hơn 3 kí tự"
   ]
  },
  {
   "cell_type": "code",
   "execution_count": null,
   "metadata": {},
   "outputs": [],
   "source": [
    "list_string = ['fsdfsf', 'fsfd', 'fsdfsf']\n",
    "\n",
    "for i in range(len(list_string)):\n",
    "    print(list_string[i])\n",
    "    \n",
    "for string in list_string:\n",
    "    print(string)"
   ]
  },
  {
   "cell_type": "markdown",
   "metadata": {},
   "source": [
    "### Thực hành 2: Viết chương trình nhận vào 2 list và trả về True nếu 2 list có ít nhất 1 phần tử chung, ngược lại trả về False"
   ]
  },
  {
   "cell_type": "code",
   "execution_count": null,
   "metadata": {},
   "outputs": [],
   "source": []
  },
  {
   "cell_type": "markdown",
   "metadata": {},
   "source": [
    "## Các thao tác cơ bản với list"
   ]
  },
  {
   "cell_type": "markdown",
   "metadata": {},
   "source": [
    "### Kiểm tra độ dài list"
   ]
  },
  {
   "cell_type": "code",
   "execution_count": 14,
   "metadata": {},
   "outputs": [
    {
     "name": "stdout",
     "output_type": "stream",
     "text": [
      "5\n"
     ]
    }
   ],
   "source": [
    "a = [1, 2, 3, 4, 5]\n",
    "print(len(a))"
   ]
  },
  {
   "cell_type": "markdown",
   "metadata": {},
   "source": [
    "### Truy cập phần tử trên list"
   ]
  },
  {
   "cell_type": "code",
   "execution_count": null,
   "metadata": {},
   "outputs": [],
   "source": [
    "a = [1, 2, 3, 4, 5]\n",
    "# sử dụng index\n",
    "print(a[2]) # 3\n",
    "\n",
    "# sử dụng reversed index\n",
    "print(a[-3]) # 3\n"
   ]
  },
  {
   "cell_type": "markdown",
   "metadata": {},
   "source": [
    "### Thực hành: Tạo một list 10 số tự nhiên và in ra các phần tử trong list"
   ]
  },
  {
   "cell_type": "code",
   "execution_count": 16,
   "metadata": {},
   "outputs": [
    {
     "name": "stdout",
     "output_type": "stream",
     "text": [
      "1 2 3 4 5 6 7 8 9 10 "
     ]
    }
   ],
   "source": [
    "list_num = [1, 2, 3, 4, 5, 6, 7, 8, 9, 10]\n",
    "\n",
    "for num in list_num:\n",
    "    print(num, end = \" \")\n"
   ]
  },
  {
   "cell_type": "markdown",
   "metadata": {},
   "source": [
    "### Thực hành 2: Tạo ra một list con chứa 2 phần tử cuối cùng từ list đã tạo ở trên"
   ]
  },
  {
   "cell_type": "code",
   "execution_count": 35,
   "metadata": {},
   "outputs": [
    {
     "name": "stdout",
     "output_type": "stream",
     "text": [
      "[9, 10]\n",
      "9 10 "
     ]
    }
   ],
   "source": [
    "list_num = [1, 2, 3, 4, 5, 6, 7, 8, 9, 10]\n",
    "\n",
    "sub_list = list_num[-2:]\n",
    "print(sub_list)\n",
    "for num in list_num[-2:]:\n",
    "    print(num, end = \" \")\n"
   ]
  },
  {
   "cell_type": "markdown",
   "metadata": {},
   "source": [
    "### Cộng list"
   ]
  },
  {
   "cell_type": "code",
   "execution_count": 26,
   "metadata": {},
   "outputs": [
    {
     "name": "stdout",
     "output_type": "stream",
     "text": [
      "['Salad', 'Egg', 'Tomato']\n",
      "['Salad', 'Egg', 'Tomato', 'Onion']\n",
      "['Chicken', 'Beef', 'Fish', 'Banana', 'Orange', 'Strawberry', 'Water melon', 'Cherry']\n",
      "['Monday', 'Tuesday', 'Wednesday', 'Thursday', 'Friday', 'Saturday', 'Sunday']\n",
      "['a', 'b', 'a', 'b', 'a', 'b', 'a', 'b', 'a', 'b']\n"
     ]
    }
   ],
   "source": [
    "# append\n",
    "recipes = [\"Salad\", \"Egg\", \"Tomato\"]\n",
    "print(recipes)\n",
    "recipes.append(\"Onion\")\n",
    "print(recipes)\n",
    "\n",
    "# Phép cộng\n",
    "fruits = [\"Banana\", \"Orange\", \"Strawberry\", \"Water melon\", \"Cherry\"]\n",
    "meats = [\"Chicken\", \"Beef\", \"Fish\"]\n",
    "join_list = meats + fruits\n",
    "print(join_list)\n",
    "\n",
    "# extend\n",
    "working_days = [\"Monday\", \"Tuesday\", \"Wednesday\", \"Thursday\", \"Friday\"]\n",
    "working_days.extend([\"Saturday\", \"Sunday\"])\n",
    "print(working_days)\n",
    "\n",
    "# Phép nhân\n",
    "print(['a', 'b'] * 5)"
   ]
  },
  {
   "cell_type": "code",
   "execution_count": 33,
   "metadata": {},
   "outputs": [
    {
     "name": "stdout",
     "output_type": "stream",
     "text": [
      "[5, 2, 3, 4]\n"
     ]
    }
   ],
   "source": [
    "a = [1, 2, 3, 4]\n",
    "b = [1, 2, 3, 4]\n",
    "a[0] += 4\n",
    "print(a)"
   ]
  },
  {
   "cell_type": "markdown",
   "metadata": {},
   "source": [
    "### Thực hành: Thêm học sinh vào lớp"
   ]
  },
  {
   "cell_type": "code",
   "execution_count": null,
   "metadata": {},
   "outputs": [],
   "source": [
    "list_students = []"
   ]
  },
  {
   "cell_type": "code",
   "execution_count": 10,
   "metadata": {},
   "outputs": [
    {
     "name": "stdout",
     "output_type": "stream",
     "text": [
      "<class 'list'>\n",
      "3\n",
      "8\n",
      "[1, 3, 5]\n"
     ]
    }
   ],
   "source": [
    "# Review\n",
    "# khởi tạo list\n",
    "a = [1, 2, 3, 4, 5, 7, 8, 9]\n",
    "print(type(a))\n",
    "\n",
    "print(a[2])\n",
    "# thêm phần tử(append, extend)\n",
    "# a.extend([7, 8, 9])\n",
    "# print(a)\n",
    "# truy xuất(positive index, negative index)\n",
    "# phép cộng\n",
    "# độ dài list\n",
    "print(len(a))\n",
    "# cắt list\n",
    "# [1, 3, 5, 8]\n",
    "print(a[:6:2])"
   ]
  },
  {
   "cell_type": "markdown",
   "metadata": {},
   "source": [
    "### Kiểm tra phần tử tồn tại trong list"
   ]
  },
  {
   "cell_type": "code",
   "execution_count": 17,
   "metadata": {},
   "outputs": [
    {
     "name": "stdout",
     "output_type": "stream",
     "text": [
      "30 có tồn tại trong list\n",
      "30 có tồn tại trong list\n",
      "30 có tồn tại trong list\n"
     ]
    }
   ],
   "source": [
    "a = [10, 20, 30, 40, 50, 10, 10]\n",
    "# loop\n",
    "for item in a:\n",
    "    if item == 30:\n",
    "        print(\"30 có tồn tại trong list\")\n",
    "        \n",
    "        \n",
    "# in\n",
    "if 30 in a:\n",
    "    print(\"30 có tồn tại trong list\")\n",
    "else:\n",
    "    pass\n",
    "\n",
    "\n",
    "# count\n",
    "if a.count(30) > 0:\n",
    "    print(\"30 có tồn tại trong list\")\n",
    "else:\n",
    "    pass"
   ]
  },
  {
   "cell_type": "markdown",
   "metadata": {},
   "source": [
    "### Xóa phần tử khỏi list"
   ]
  },
  {
   "cell_type": "code",
   "execution_count": 23,
   "metadata": {},
   "outputs": [
    {
     "name": "stdout",
     "output_type": "stream",
     "text": [
      "[10, 30, 40, 50]\n"
     ]
    }
   ],
   "source": [
    "# pop sẽ xóa phần tử ra khỏi list và return giá trị vừa xóa\n",
    "a = [10, 20, 30, 40, 50]\n",
    "'''\n",
    "print(a.pop())  # xóa phần tử tại vị trí cuối cùng\n",
    "print(a)\n",
    "'''\n",
    "\n",
    "\n",
    "'''\n",
    "print(a.pop(1))  # xóa phần tử tại vị trí được chỉ định\n",
    "print(a)\n",
    "'''\n",
    "# del sẽ xóa phần tử tại vị trí chỉ định ra khỏi list và không có return\n",
    "del a[1]\n",
    "print(a)"
   ]
  },
  {
   "cell_type": "markdown",
   "metadata": {},
   "source": [
    "### Sắp xếp list"
   ]
  },
  {
   "cell_type": "code",
   "execution_count": 34,
   "metadata": {},
   "outputs": [
    {
     "name": "stdout",
     "output_type": "stream",
     "text": [
      "[123, 543, 9676, 123213, 7657, 344]\n",
      "[123213, 9676, 7657, 543, 344, 123]\n",
      "--------------------\n",
      "[123213, 9676, 7657, 543, 344, 123]\n",
      "['Anh', 'Quan', 'Thien', 'an', 'luan']\n"
     ]
    }
   ],
   "source": [
    "a = [123, 543, 9676, 123213, 7657, 344]\n",
    "\n",
    "# sort sẽ thực hiện sắp xếp lại list và làm thay đổi trực tiếp thứ tự của các element trong list\n",
    "print(a)\n",
    "a.sort(reverse=True)\n",
    "print(a)\n",
    "\n",
    "print('--------------------')\n",
    "\n",
    "# sorted sẽ thực hiện sắp xếp lại list nhưng KHÔNG làm thay đổi trực tiếp thứ tự của các element trong list\n",
    "# mà sẽ tạo ra một list mới và return về\n",
    "a = [123, 543, 9676, 123213, 7657, 344]\n",
    "b = sorted(a, reverse=True)\n",
    "print(b)\n",
    "\n",
    "names = ['luan', 'Quan', 'Thien', 'Anh', 'an']\n",
    "print(sorted(names))"
   ]
  },
  {
   "cell_type": "markdown",
   "metadata": {},
   "source": [
    "### Làm rỗng list"
   ]
  },
  {
   "cell_type": "code",
   "execution_count": 36,
   "metadata": {},
   "outputs": [
    {
     "name": "stdout",
     "output_type": "stream",
     "text": [
      "[10, 20, 30, 40, 50]\n",
      "[]\n"
     ]
    }
   ],
   "source": [
    "# clear\n",
    "a = [10, 20, 30, 40, 50]\n",
    "print(a)\n",
    "# a.clear()\n",
    "a = []\n",
    "print(a)"
   ]
  },
  {
   "cell_type": "markdown",
   "metadata": {},
   "source": [
    "### Copy list"
   ]
  },
  {
   "attachments": {
    "image.png": {
     "image/png": "[encoded data removed]"
    }
   },
   "cell_type": "markdown",
   "metadata": {},
   "source": [
    "![image.png](attachment:image.png)"
   ]
  },
  {
   "cell_type": "code",
   "execution_count": 41,
   "metadata": {},
   "outputs": [
    {
     "name": "stdout",
     "output_type": "stream",
     "text": [
      "Giá trị của list a: [1, 2, 3]\n",
      "Giá trị của list b: [1, 2, 3]\n",
      "Giá trị của list a sau khi xử lý: [1, 2, 3, 4]\n",
      "Giá trị của list b sau khi xử lý: [1, 2, 3, 4]\n",
      "---------------------\n",
      "Giá trị của list c: [1, 2, 3]\n",
      "Giá trị của list d: [1, 2, 3]\n",
      "Giá trị của list c sau khi xử lý: [1, 2, 3, 4]\n",
      "Giá trị của list d sau khi xử lý: [1, 2, 3]\n"
     ]
    }
   ],
   "source": [
    "# copy\n",
    "a = [1, 2, 3]\n",
    "print(f\"Giá trị của list a: {a}\")\n",
    "\n",
    "b = a\n",
    "print(f\"Giá trị của list b: {b}\")\n",
    "\n",
    "a.append(4)\n",
    "print(f\"Giá trị của list a sau khi xử lý: {a}\")\n",
    "print(f\"Giá trị của list b sau khi xử lý: {b}\")\n",
    "\n",
    "print('---------------------')\n",
    "\n",
    "c = [1, 2, 3]\n",
    "d = c.copy()\n",
    "print(f\"Giá trị của list c: {c}\")\n",
    "print(f\"Giá trị của list d: {d}\")\n",
    "\n",
    "c.append(4)\n",
    "print(f\"Giá trị của list c sau khi xử lý: {c}\")\n",
    "print(f\"Giá trị của list d sau khi xử lý: {d}\")"
   ]
  },
  {
   "cell_type": "markdown",
   "metadata": {},
   "source": [
    "## tuple"
   ]
  },
  {
   "cell_type": "code",
   "execution_count": 53,
   "metadata": {},
   "outputs": [
    {
     "name": "stdout",
     "output_type": "stream",
     "text": [
      "<class 'tuple'>\n",
      "5\n",
      "(1, 2, 3, True, 'hello')\n",
      "3\n",
      "--------------\n",
      "(1, 2, 3)\n",
      "--------------\n",
      "My name is Long. My coure is Python\n",
      "1 2\n"
     ]
    }
   ],
   "source": [
    "# Tuple trong Python là một dạng dữ liệu mà các phần tử \n",
    "# trong đó được xắp xếp theo thứ tự và không thể thay đổi \n",
    "# được giá trị sau khi được khai báo. \n",
    "\n",
    "\n",
    "a = (1, 2, 3, True, \"hello\")\n",
    "print(type(a))\n",
    "print(len(a))\n",
    "print(a)\n",
    "print(a[2])\n",
    "\n",
    "print('--------------')\n",
    "\n",
    "# tạo tuple từ list\n",
    "tuple1 = tuple([1, 2, 3])\n",
    "print(tuple1)\n",
    "\n",
    "print('--------------')\n",
    "\n",
    "# unpacking\n",
    "info = (\"Long\", \"Python\")\n",
    "name, course = info\n",
    "\n",
    "print(f\"My name is {name}. My coure is {course}\")\n",
    "\n",
    "# unpacking list\n",
    "a = [1, 2]\n",
    "num1, num2 = a\n",
    "\n",
    "print(num1, num2)"
   ]
  }
 ],
 "metadata": {
  "kernelspec": {
   "display_name": "Python 3 (ipykernel)",
   "language": "python",
   "name": "python3"
  },
  "language_info": {
   "codemirror_mode": {
    "name": "ipython",
    "version": 3
   },
   "file_extension": ".py",
   "mimetype": "text/x-python",
   "name": "python",
   "nbconvert_exporter": "python",
   "pygments_lexer": "ipython3",
   "version": "3.9.6"
  }
 },
 "nbformat": 4,
 "nbformat_minor": 4
}
